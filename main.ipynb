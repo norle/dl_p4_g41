{
 "cells": [
  {
   "cell_type": "markdown",
   "metadata": {},
   "source": [
    "# 02456 Deep Learning final report Group 41 Project 4"
   ]
  },
  {
   "cell_type": "markdown",
   "metadata": {},
   "source": [
    "The data in the data folder are made by hand and aren't the real data used to train the model, as the data itself is confidential."
   ]
  },
  {
   "cell_type": "markdown",
   "metadata": {},
   "source": [
    "## Main training loop for CNNs"
   ]
  },
  {
   "cell_type": "code",
   "execution_count": 2,
   "metadata": {},
   "outputs": [
    {
     "name": "stdout",
     "output_type": "stream",
     "text": [
      "Using cpu device\n",
      "Traceback (most recent call last):\n",
      "  File \"/zhome/85/8/203063/DL/repo/scripts/modular_train_test.py\", line 112, in <module>\n",
      "    train_data_loader = DataLoader(dataset_train, \n",
      "                        ^^^^^^^^^^^^^^^^^^^^^^^^^\n",
      "  File \"/zhome/85/8/203063/DL/dl/lib/python3.11/site-packages/torch/utils/data/dataloader.py\", line 351, in __init__\n",
      "    sampler = RandomSampler(dataset, generator=generator)  # type: ignore[arg-type]\n",
      "              ^^^^^^^^^^^^^^^^^^^^^^^^^^^^^^^^^^^^^^^^^^^\n",
      "  File \"/zhome/85/8/203063/DL/dl/lib/python3.11/site-packages/torch/utils/data/sampler.py\", line 144, in __init__\n",
      "    raise ValueError(f\"num_samples should be a positive integer value, but got num_samples={self.num_samples}\")\n",
      "ValueError: num_samples should be a positive integer value, but got num_samples=0\n"
     ]
    }
   ],
   "source": [
    "# Execute a Python file\n",
    "!python 'scripts/modular_train_test.py'"
   ]
  },
  {
   "cell_type": "markdown",
   "metadata": {},
   "source": [
    "## Simple 1D model"
   ]
  },
  {
   "cell_type": "code",
   "execution_count": 1,
   "metadata": {},
   "outputs": [
    {
     "name": "stdout",
     "output_type": "stream",
     "text": [
      "Using cpu device\n",
      "Traceback (most recent call last):\n",
      "  File \"/zhome/85/8/203063/DL/repo/scripts/simple1d.py\", line 159, in <module>\n",
      "    print(dataset_train[0])\n",
      "          ~~~~~~~~~~~~~^^^\n",
      "  File \"/zhome/85/8/203063/DL/repo/scripts/datasets.py\", line 33, in __getitem__\n",
      "    spectrogram, target = self._get_item_helper(idx)\n",
      "                          ^^^^^^^^^^^^^^^^^^^^^^^^^^\n",
      "  File \"/zhome/85/8/203063/DL/repo/scripts/datasets.py\", line 39, in _get_item_helper\n",
      "    stmf_row = self.stmf_data.iloc[idx]\n",
      "               ~~~~~~~~~~~~~~~~~~~^^^^^\n",
      "  File \"/zhome/85/8/203063/DL/dl/lib/python3.11/site-packages/pandas/core/indexing.py\", line 1191, in __getitem__\n",
      "    return self._getitem_axis(maybe_callable, axis=axis)\n",
      "           ^^^^^^^^^^^^^^^^^^^^^^^^^^^^^^^^^^^^^^^^^^^^^\n",
      "  File \"/zhome/85/8/203063/DL/dl/lib/python3.11/site-packages/pandas/core/indexing.py\", line 1752, in _getitem_axis\n",
      "    self._validate_integer(key, axis)\n",
      "  File \"/zhome/85/8/203063/DL/dl/lib/python3.11/site-packages/pandas/core/indexing.py\", line 1685, in _validate_integer\n",
      "    raise IndexError(\"single positional indexer is out-of-bounds\")\n",
      "IndexError: single positional indexer is out-of-bounds\n"
     ]
    }
   ],
   "source": [
    "!python 'scripts/simple1d.py'"
   ]
  }
 ],
 "metadata": {
  "kernelspec": {
   "display_name": "dl",
   "language": "python",
   "name": "python3"
  },
  "language_info": {
   "codemirror_mode": {
    "name": "ipython",
    "version": 3
   },
   "file_extension": ".py",
   "mimetype": "text/x-python",
   "name": "python",
   "nbconvert_exporter": "python",
   "pygments_lexer": "ipython3",
   "version": "3.11.9"
  }
 },
 "nbformat": 4,
 "nbformat_minor": 2
}
