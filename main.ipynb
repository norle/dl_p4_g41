{
 "cells": [
  {
   "cell_type": "markdown",
   "metadata": {},
   "source": [
    "# 02456 Deep Learning final report Group 41 Project 4"
   ]
  },
  {
   "cell_type": "code",
   "execution_count": 11,
   "metadata": {},
   "outputs": [
    {
     "name": "stdout",
     "output_type": "stream",
     "text": [
      "Random spectrogram files generated successfully!\n"
     ]
    }
   ],
   "source": [
    "import numpy as np\n",
    "from pathlib import Path\n",
    "import csv\n",
    "\n",
    "def generate_random_spectrograms(dirs: list, num_files: int, num_channels: int, height: int, width: int):\n",
    "    \"\"\"\n",
    "    Generate random .npy stacked spectrogram files in multiple directories and log entries in a CSV file.\n",
    "\n",
    "    Args:\n",
    "        dirs (list): List of directories to save the generated .npy files.\n",
    "        num_files (int): Number of files to generate in each directory.\n",
    "        num_channels (int): Number of channels in each spectrogram.\n",
    "        height (int): Height of each spectrogram.\n",
    "        width (int): Width of each spectrogram.\n",
    "    \"\"\"\n",
    "    # Wipe the CSV file before writing\n",
    "    csv_file = Path(\"data/stmf_data_3.csv\")\n",
    "    csv_file.parent.mkdir(parents=True, exist_ok=True)\n",
    "    with open(csv_file, mode='w', newline='') as file:\n",
    "        writer = csv.writer(file)\n",
    "        writer.writerow([\"BallVr\"])\n",
    "    \n",
    "    i = 0\n",
    "    for data_dir in dirs:\n",
    "        data_dir = Path(data_dir)\n",
    "        data_dir.mkdir(parents=True, exist_ok=True)\n",
    "        \n",
    "        for n in range(num_files):\n",
    "            # Generate random spectrogram data\n",
    "            spectrogram = np.random.rand(height, width, num_channels).astype(np.float32)\n",
    "            \n",
    "            # Create a filename\n",
    "            filename = data_dir / f\"{i}_stacked_spectrograms.npy\"\n",
    "            \n",
    "            # Save the spectrogram as a .npy file\n",
    "            np.save(filename, spectrogram)\n",
    "            \n",
    "            # Append an entry to the CSV file\n",
    "            with open(csv_file, mode='a', newline='') as file:\n",
    "                writer = csv.writer(file)\n",
    "                writer.writerow([i, np.random.uniform(-50, 0)])\n",
    "            i += 1\n",
    "\n",
    "# Example usage\n",
    "data_path = Path(\"data/data_fft-512_tscropwidth-150-200_vrcropwidth-60-15\")\n",
    "dirs = [data_path / \"train\", data_path / \"validation\", data_path / \"test\"]\n",
    "generate_random_spectrograms(dirs, num_files=10, num_channels=6, height=79, width=534)\n",
    "print(\"Random spectrogram files generated successfully!\")"
   ]
  },
  {
   "cell_type": "markdown",
   "metadata": {},
   "source": [
    "## Main training loop for CNNs"
   ]
  },
  {
   "cell_type": "code",
   "execution_count": 9,
   "metadata": {},
   "outputs": [
    {
     "name": "stdout",
     "output_type": "stream",
     "text": [
      "Using cpu device\n",
      "\u001b[34m\u001b[1mwandb\u001b[0m: Using wandb-core as the SDK backend.  Please refer to https://wandb.me/wandb-core for more information.\n",
      "\u001b[34m\u001b[1mwandb\u001b[0m: Currently logged in as: \u001b[33ms233201\u001b[0m (\u001b[33ms194142-danmarks-tekniske-universitet-dtu\u001b[0m). Use \u001b[1m`wandb login --relogin`\u001b[0m to force relogin\n",
      "\u001b[34m\u001b[1mwandb\u001b[0m: Tracking run with wandb version 0.18.6\n",
      "\u001b[34m\u001b[1mwandb\u001b[0m: Run data is saved locally in \u001b[35m\u001b[1m/zhome/85/8/203063/DL/repo/wandb/run-20241221_134021-b57mgsw2\u001b[0m\n",
      "\u001b[34m\u001b[1mwandb\u001b[0m: Run \u001b[1m`wandb offline`\u001b[0m to turn off syncing.\n",
      "\u001b[34m\u001b[1mwandb\u001b[0m: Syncing run \u001b[33mwarm-rain-415\u001b[0m\n",
      "\u001b[34m\u001b[1mwandb\u001b[0m: ⭐️ View project at \u001b[34m\u001b[4mhttps://wandb.ai/s194142-danmarks-tekniske-universitet-dtu/02456_group_41\u001b[0m\n",
      "\u001b[34m\u001b[1mwandb\u001b[0m: 🚀 View run at \u001b[34m\u001b[4mhttps://wandb.ai/s194142-danmarks-tekniske-universitet-dtu/02456_group_41/runs/b57mgsw2\u001b[0m\n",
      "EPOCH 1:\n",
      "Traceback (most recent call last):\n",
      "  File \"/zhome/85/8/203063/DL/repo/scripts/modular_train_test.py\", line 167, in <module>\n",
      "    avg_loss = train_one_epoch(MODEL.loss_fn, model, train_data_loader)\n",
      "               ^^^^^^^^^^^^^^^^^^^^^^^^^^^^^^^^^^^^^^^^^^^^^^^^^^^^^^^^\n",
      "  File \"/zhome/85/8/203063/DL/repo/scripts/modular_train_test.py\", line 66, in train_one_epoch\n",
      "    outputs = model(spectrogram)\n",
      "              ^^^^^^^^^^^^^^^^^^\n",
      "  File \"/zhome/85/8/203063/DL/dl/lib/python3.11/site-packages/torch/nn/modules/module.py\", line 1553, in _wrapped_call_impl\n",
      "    return self._call_impl(*args, **kwargs)\n",
      "           ^^^^^^^^^^^^^^^^^^^^^^^^^^^^^^^^\n",
      "  File \"/zhome/85/8/203063/DL/dl/lib/python3.11/site-packages/torch/nn/modules/module.py\", line 1562, in _call_impl\n",
      "    return forward_call(*args, **kwargs)\n",
      "           ^^^^^^^^^^^^^^^^^^^^^^^^^^^^^\n",
      "  File \"/zhome/85/8/203063/DL/repo/scripts/models.py\", line 80, in forward\n",
      "    x = self._input_layer(input_data)\n",
      "        ^^^^^^^^^^^^^^^^^^^^^^^^^^^^^\n",
      "  File \"/zhome/85/8/203063/DL/repo/scripts/models.py\", line 66, in _input_layer\n",
      "    return self.conv1(input_data)\n",
      "           ^^^^^^^^^^^^^^^^^^^^^^\n",
      "  File \"/zhome/85/8/203063/DL/dl/lib/python3.11/site-packages/torch/nn/modules/module.py\", line 1553, in _wrapped_call_impl\n",
      "    return self._call_impl(*args, **kwargs)\n",
      "           ^^^^^^^^^^^^^^^^^^^^^^^^^^^^^^^^\n",
      "  File \"/zhome/85/8/203063/DL/dl/lib/python3.11/site-packages/torch/nn/modules/module.py\", line 1562, in _call_impl\n",
      "    return forward_call(*args, **kwargs)\n",
      "           ^^^^^^^^^^^^^^^^^^^^^^^^^^^^^\n",
      "  File \"/zhome/85/8/203063/DL/dl/lib/python3.11/site-packages/torch/nn/modules/container.py\", line 219, in forward\n",
      "    input = module(input)\n",
      "            ^^^^^^^^^^^^^\n",
      "  File \"/zhome/85/8/203063/DL/dl/lib/python3.11/site-packages/torch/nn/modules/module.py\", line 1553, in _wrapped_call_impl\n",
      "    return self._call_impl(*args, **kwargs)\n",
      "           ^^^^^^^^^^^^^^^^^^^^^^^^^^^^^^^^\n",
      "  File \"/zhome/85/8/203063/DL/dl/lib/python3.11/site-packages/torch/nn/modules/module.py\", line 1562, in _call_impl\n",
      "    return forward_call(*args, **kwargs)\n",
      "           ^^^^^^^^^^^^^^^^^^^^^^^^^^^^^\n",
      "  File \"/zhome/85/8/203063/DL/dl/lib/python3.11/site-packages/torch/nn/modules/conv.py\", line 458, in forward\n",
      "    return self._conv_forward(input, self.weight, self.bias)\n",
      "           ^^^^^^^^^^^^^^^^^^^^^^^^^^^^^^^^^^^^^^^^^^^^^^^^^\n",
      "  File \"/zhome/85/8/203063/DL/dl/lib/python3.11/site-packages/torch/nn/modules/conv.py\", line 454, in _conv_forward\n",
      "    return F.conv2d(input, weight, bias, self.stride,\n",
      "           ^^^^^^^^^^^^^^^^^^^^^^^^^^^^^^^^^^^^^^^^^^\n",
      "RuntimeError: Given groups=1, weight of size [16, 6, 5, 5], expected input[10, 914, 74, 918] to have 6 channels, but got 914 channels instead\n",
      "\u001b[1;34mwandb\u001b[0m: 🚀 View run \u001b[33mwarm-rain-415\u001b[0m at: \u001b[34mhttps://wandb.ai/s194142-danmarks-tekniske-universitet-dtu/02456_group_41/runs/b57mgsw2\u001b[0m\n",
      "\u001b[1;34mwandb\u001b[0m: Find logs at: \u001b[1;35mwandb/run-20241221_134021-b57mgsw2/logs\u001b[0m\n"
     ]
    }
   ],
   "source": [
    "# Execute a Python file\n",
    "!python 'scripts/modular_train_test.py'"
   ]
  },
  {
   "cell_type": "code",
   "execution_count": null,
   "metadata": {},
   "outputs": [],
   "source": []
  }
 ],
 "metadata": {
  "kernelspec": {
   "display_name": "dl",
   "language": "python",
   "name": "python3"
  },
  "language_info": {
   "codemirror_mode": {
    "name": "ipython",
    "version": 3
   },
   "file_extension": ".py",
   "mimetype": "text/x-python",
   "name": "python",
   "nbconvert_exporter": "python",
   "pygments_lexer": "ipython3",
   "version": "3.11.9"
  }
 },
 "nbformat": 4,
 "nbformat_minor": 2
}
