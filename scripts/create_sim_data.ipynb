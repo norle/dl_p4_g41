{
 "cells": [
  {
   "cell_type": "markdown",
   "metadata": {},
   "source": [
    "# Functions:"
   ]
  },
  {
   "cell_type": "code",
   "execution_count": null,
   "metadata": {},
   "outputs": [],
   "source": [
    "import numpy as np\n",
    "import matplotlib.pyplot as plt\n",
    "\n",
    "# Constants\n",
    "datapoints = 50\n",
    "dim_x = 6\n",
    "dim_y = 74\n",
    "dim_z = 918\n",
    "\n",
    "# Generate data between 0 and 1 with some Gaussian noise\n",
    "data = np.random.rand(datapoints, dim_x, dim_y, dim_z) + np.random.normal(0, 0.1, (datapoints, dim_x, dim_y, dim_z))\n",
    "data = np.clip(data, 0, 1)  # Ensure all values are between 0 and 1\n",
    "\n",
    "# Add thick lines with gradients\n",
    "for d in range(datapoints):\n",
    "    # Line 1: Vertical line with noise\n",
    "    noise = np.random.normal(0, 5)\n",
    "    x1_start, y1_start = 0, 30 + noise\n",
    "    x1_end, y1_end = dim_z - 1, 30 + noise\n",
    "\n",
    "    # Line 2: Diagonal line with noise\n",
    "    x2_start, y2_start = 400 + np.random.normal(0, 5), 60 + np.random.normal(0, 5)\n",
    "    x2_end, y2_end = 800 + np.random.normal(0, 5), 40 + np.random.normal(0, 5)\n",
    "\n",
    "    # Draw Line 1\n",
    "    for width in range(-2, 3):  # Thickness\n",
    "        y = int(y1_start + width)\n",
    "        if 0 <= y < dim_y:\n",
    "            for z in range(dim_z):\n",
    "                data[d, :, y, z] = np.clip(data[d, :, y, z] + np.exp(-abs(width) / 2), 0, 1)\n",
    "\n",
    "    # Draw Line 2\n",
    "    for width in range(-2, 3):  # Thickness\n",
    "        for z in range(int(x2_start), int(x2_end)):\n",
    "            y = int(y2_start + (y2_end - y2_start) * (z - x2_start) / (x2_end - x2_start) + width)\n",
    "            if 0 <= y < dim_y:\n",
    "                data[d, :, y, z] = np.clip(data[d, :, y, z] + np.exp(-abs(width) / 2), 0, 1)\n",
    "\n",
    "# Visualize a single slice of the data to confirm\n",
    "plt.imshow(data[0, 0, :, :], cmap=\"viridis\", aspect=\"auto\")\n",
    "plt.colorbar()\n",
    "plt.title(\"Sample Data Slice with Lines\")\n",
    "plt.xlabel(\"Z-axis\")\n",
    "plt.ylabel(\"Y-axis\")\n",
    "plt.show()\n",
    "\n",
    "# Save it to your desired location\n",
    "output_path = \"/Users/oscarbachostdahlpedersen/Documents/5. DTU noter/Kand Semester 1/02456 Deep Learning/data/generated_band_data.npy\"\n",
    "np.save(output_path, data)\n",
    "output_path\n",
    "\n",
    "# Plot all 6 slices for the first 2 datapoints along the \"dim_x\" axis\n",
    "fig, axes = plt.subplots(2, 6, figsize=(20, 8))\n",
    "for datapoint_index in range(2):  # First two datapoints\n",
    "    for dim_x_index in range(dim_x):  # All 6 slices along dim_x\n",
    "        ax = axes[datapoint_index, dim_x_index]\n",
    "        ax.imshow(data[datapoint_index, dim_x_index, :, :], cmap=\"viridis\", aspect=\"auto\")\n",
    "        ax.set_title(f\"Datapoint {datapoint_index+1}, Dim {dim_x_index+1}\")\n",
    "        ax.axis(\"off\")\n",
    "\n",
    "plt.tight_layout()\n",
    "plt.show()\n"
   ]
  }
 ],
 "metadata": {
  "kernelspec": {
   "display_name": "GUenv1",
   "language": "python",
   "name": "python3"
  },
  "language_info": {
   "codemirror_mode": {
    "name": "ipython",
    "version": 3
   },
   "file_extension": ".py",
   "mimetype": "text/x-python",
   "name": "python",
   "nbconvert_exporter": "python",
   "pygments_lexer": "ipython3",
   "version": "3.12.2"
  }
 },
 "nbformat": 4,
 "nbformat_minor": 2
}
