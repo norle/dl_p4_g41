{
 "cells": [
  {
   "cell_type": "markdown",
   "metadata": {},
   "source": [
    "# Functions:"
   ]
  },
  {
   "cell_type": "code",
   "execution_count": 3,
   "metadata": {},
   "outputs": [
    {
     "name": "stdout",
     "output_type": "stream",
     "text": [
      "Data successfully saved in '../data'!\n",
      "CSV file '../data/stmf_data_3.csv' created with 500 entries.\n"
     ]
    }
   ],
   "source": [
    "import os\n",
    "import numpy as np\n",
    "import pandas as pd\n",
    "from pathlib import Path\n",
    "from sklearn.model_selection import train_test_split\n",
    "\n",
    "# Constants\n",
    "DATA_DIR = Path(\"../data\")  # Base data directory\n",
    "TRAIN_DIR = DATA_DIR / \"train\"\n",
    "TEST_DIR = DATA_DIR / \"test\"\n",
    "VALIDATION_DIR = DATA_DIR / \"validation\"\n",
    "CSV_FILE = DATA_DIR / \"stmf_data_3.csv\"\n",
    "NUM_SAMPLES = 500  # Total number of samples\n",
    "DIM_X, DIM_Y, DIM_Z = 6, 74, 918  # Dimensions of each spectrogram\n",
    "RANDOM_SEED = 42  # For reproducibility\n",
    "\n",
    "# Ensure directories exist\n",
    "TRAIN_DIR.mkdir(parents=True, exist_ok=True)\n",
    "TEST_DIR.mkdir(parents=True, exist_ok=True)\n",
    "VALIDATION_DIR.mkdir(parents=True, exist_ok=True)\n",
    "\n",
    "# Step 1: Generate data with thick lines and circles\n",
    "np.random.seed(RANDOM_SEED)\n",
    "data = np.random.rand(NUM_SAMPLES, DIM_X, DIM_Y, DIM_Z) + np.random.normal(0, 0.1, (NUM_SAMPLES, DIM_X, DIM_Y, DIM_Z))\n",
    "data = np.clip(data, 0, 1)  # Ensure all values are between 0 and 1\n",
    "\n",
    "targets = []\n",
    "\n",
    "for d in range(NUM_SAMPLES):\n",
    "    # Line 1: Vertical line with noise\n",
    "    noise = np.random.normal(0, 5)\n",
    "    x1_start, y1_start = 0, 30\n",
    "    x1_end, y1_end = DIM_Z - 1, 30 + noise\n",
    "\n",
    "    # Line 2: Diagonal line with noise\n",
    "    x2_start, y2_start = 400 + np.random.normal(0, 5), 60 + np.random.normal(0, 5)\n",
    "    x2_end, y2_end = 800 + np.random.normal(0, 5), 30 + np.random.normal(0, 1)\n",
    "\n",
    "    # Draw Line 1\n",
    "    for width in range(-2, 3):  # Thickness\n",
    "        y = int(y1_start + width)\n",
    "        if 0 <= y < DIM_Y:\n",
    "            for z in range(DIM_Z):\n",
    "                data[d, :, y, z] = np.clip(data[d, :, y, z] + np.exp(-abs(width) / 2), 0, 1)\n",
    "\n",
    "    # Draw Line 2\n",
    "    for width in range(-2, 3):  # Thickness\n",
    "        for z in range(int(x2_start), int(x2_end)):\n",
    "            y = int(y2_start + (y2_end - y2_start) * (z - x2_start) / (x2_end - x2_start) + width)\n",
    "            if 0 <= y < DIM_Y:\n",
    "                data[d, :, y, z] = np.clip(data[d, :, y, z] + np.exp(-abs(width) / 2), 0, 1)\n",
    "    \n",
    "    # Calculate the target value for this observation\n",
    "    target = -y2_start / 2\n",
    "    targets.append(target)\n",
    "\n",
    "# Step 2: Split data into train, test, and validation sets\n",
    "train_indices, test_val_indices = train_test_split(np.arange(NUM_SAMPLES), test_size=0.4, random_state=RANDOM_SEED)\n",
    "test_indices, val_indices = train_test_split(test_val_indices, test_size=0.5, random_state=RANDOM_SEED)\n",
    "\n",
    "# Step 3: Save spectrogram data into respective directories\n",
    "def save_spectrograms(indices, target_dir):\n",
    "    \"\"\"\n",
    "    Save spectrogram data for the given indices to the target directory.\n",
    "    \"\"\"\n",
    "    for idx in indices:\n",
    "        obs_no = idx  # Observation number matches the index\n",
    "        filepath = target_dir / f\"{obs_no}_stacked_spectrograms.npy\"\n",
    "        np.save(filepath, data[idx])  # Save spectrogram\n",
    "\n",
    "save_spectrograms(train_indices, TRAIN_DIR)\n",
    "save_spectrograms(test_indices, TEST_DIR)\n",
    "save_spectrograms(val_indices, VALIDATION_DIR)\n",
    "\n",
    "# Step 4: Create a CSV file for all the data\n",
    "csv_data = []\n",
    "for idx in range(NUM_SAMPLES):\n",
    "    csv_data.append({\"obs_no\": idx, \"BallVr\": targets[idx]})\n",
    "df = pd.DataFrame(csv_data)\n",
    "\n",
    "# Save the CSV file\n",
    "df.to_csv(CSV_FILE, index=False)\n",
    "\n",
    "print(f\"Data successfully saved in '{DATA_DIR}'!\")\n",
    "print(f\"CSV file '{CSV_FILE}' created with {len(df)} entries.\")\n"
   ]
  }
 ],
 "metadata": {
  "kernelspec": {
   "display_name": "Python (jupyt)",
   "language": "python",
   "name": "jupyt"
  },
  "language_info": {
   "codemirror_mode": {
    "name": "ipython",
    "version": 3
   },
   "file_extension": ".py",
   "mimetype": "text/x-python",
   "name": "python",
   "nbconvert_exporter": "python",
   "pygments_lexer": "ipython3",
   "version": "3.12.2"
  }
 },
 "nbformat": 4,
 "nbformat_minor": 2
}
