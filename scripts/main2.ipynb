{
 "cells": [
  {
   "cell_type": "markdown",
   "metadata": {},
   "source": [
    "**NOTE**\n",
    "The Trackman data is confidential, so the data used in this script is only to test "
   ]
  },
  {
   "cell_type": "code",
   "execution_count": null,
   "metadata": {},
   "outputs": [
    {
     "ename": "",
     "evalue": "",
     "output_type": "error",
     "traceback": [
      "\u001b[1;31mThe Kernel crashed while executing code in the current cell or a previous cell. \n",
      "\u001b[1;31mPlease review the code in the cell(s) to identify a possible cause of the failure. \n",
      "\u001b[1;31mClick <a href='https://aka.ms/vscodeJupyterKernelCrash'>here</a> for more info. \n",
      "\u001b[1;31mView Jupyter <a href='command:jupyter.viewOutput'>log</a> for further details."
     ]
    }
   ],
   "source": [
    "\n",
    "\n",
    "from pathlib import Path\n",
    "\n",
    "from numpy import log10\n",
    "import torch\n",
    "from torchvision.transforms import transforms\n",
    "from torch.utils.data import DataLoader\n",
    "from torchvision.transforms import Compose\n",
    "from custom_transforms import LoadSpectrogram, NormalizeSpectrogram, ToTensor, InterpolateSpectrogram\n",
    "from data_management import make_dataset_name\n",
    "from models import weights_init_uniform_rule, SpectrVelCNNRegr\n",
    "\n",
    "MODEL = SpectrVelCNNRegr\n",
    "LEARNING_RATE = 10**-4\n",
    "WEIGHT_DECAY = 1e-4\n",
    "EPOCHS = 350 # the model converges in test perfermance after ~250-300 epochs\n",
    "BATCH_SIZE = 32\n",
    "NUM_WORKERS = 0\n",
    "OPTIMIZER = torch.optim.Adam\n",
    "DEVICE = (\n",
    "    \"cuda\"\n",
    "    if torch.cuda.is_available()\n",
    "    else \"mps\"\n",
    "    if torch.backends.mps.is_available()\n",
    "    else \"cpu\"\n",
    ")\n",
    "\n",
    "# Paths\n",
    "DATA_ROOT = Path(\"data\")\n",
    "STMF_FILENAME = \"stmf_data_3.csv\"\n",
    "train_dir = DATA_ROOT / \"train\"\n",
    "test_dir = DATA_ROOT / \"test\"\n",
    "validation_dir = DATA_ROOT / \"validation\"\n",
    "\n",
    "# Transforms\n",
    "TRAIN_TRANSFORM = Compose([\n",
    "    LoadSpectrogram(root_dir=train_dir),\n",
    "    # NormalizeSpectrogram(),\n",
    "    ToTensor(),\n",
    "    # InterpolateSpectrogram(size=(74, 918))\n",
    "])\n",
    "\n",
    "TEST_TRANSFORM = Compose([\n",
    "    LoadSpectrogram(root_dir=test_dir),\n",
    "    # NormalizeSpectrogram(),\n",
    "    ToTensor(),\n",
    "    # InterpolateSpectrogram(size=(74, 918))\n",
    "])\n",
    "\n",
    "VALIDATION_TRANSFORM = Compose([\n",
    "    LoadSpectrogram(root_dir=validation_dir),\n",
    "    # NormalizeSpectrogram(),\n",
    "    ToTensor(),\n",
    "    # InterpolateSpectrogram(size=(74, 918))\n",
    "])\n",
    "\n",
    "train_dataset = MODEL.dataset(data_dir= DATA_ROOT / \"train\",\n",
    "                        stmf_data_path = DATA_ROOT / STMF_FILENAME,\n",
    "                        transform=TRAIN_TRANSFORM)\n",
    "\n",
    "validation_dataset = MODEL.dataset(data_dir= DATA_ROOT / \"validation\",\n",
    "                        stmf_data_path = DATA_ROOT / STMF_FILENAME,\n",
    "                        transform=TEST_TRANSFORM)\n",
    "\n",
    "train_dataloader = DataLoader(dataset=train_dataset, batch_size=BATCH_SIZE, shuffle=True, num_workers=NUM_WORKERS)\n",
    "validation_dataloader = DataLoader(dataset=validation_dataset, batch_size=BATCH_SIZE, shuffle=False, num_workers=NUM_WORKERS)\n",
    "\n",
    "# Test the dataloaders\n",
    "for batch in train_dataloader:\n",
    "    print(batch[\"spectrogram\"].shape)\n",
    "    print(batch[\"target\"].shape)\n",
    "    break\n"
   ]
  }
 ],
 "metadata": {
  "kernelspec": {
   "display_name": "Python (jupyt)",
   "language": "python",
   "name": "jupyt"
  },
  "language_info": {
   "codemirror_mode": {
    "name": "ipython",
    "version": 3
   },
   "file_extension": ".py",
   "mimetype": "text/x-python",
   "name": "python",
   "nbconvert_exporter": "python",
   "pygments_lexer": "ipython3",
   "version": "3.12.2"
  }
 },
 "nbformat": 4,
 "nbformat_minor": 2
}
